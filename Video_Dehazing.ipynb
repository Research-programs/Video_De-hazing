{
 "cells": [
  {
   "cell_type": "code",
   "execution_count": 76,
   "id": "0ecb4608",
   "metadata": {},
   "outputs": [],
   "source": [
    "import cv2\n",
    "import math\n",
    "import numpy as np\n",
    "import os\n",
    "import matplotlib.pyplot as plt\n",
    "from timeit import default_timer as time \n",
    "import tkinter as tk \n",
    "import datetime\n",
    "from tkinter import filedialog"
   ]
  },
  {
   "cell_type": "markdown",
   "id": "0d8bc6f2",
   "metadata": {},
   "source": [
    "# Simple Downsampling"
   ]
  },
  {
   "cell_type": "code",
   "execution_count": 77,
   "id": "098bdcfc",
   "metadata": {},
   "outputs": [],
   "source": [
    "def simple_downsmpl(img ,srf):\n",
    "  \n",
    "    im_array = np.array(img)\n",
    "    im_downsampled = im_array[::srf, ::srf, :]\n",
    "    return im_downsampled"
   ]
  },
  {
   "cell_type": "markdown",
   "id": "ef90d73f",
   "metadata": {},
   "source": [
    "# Simple Upsampling --not working"
   ]
  },
  {
   "cell_type": "code",
   "execution_count": 91,
   "id": "b4d34ca0",
   "metadata": {},
   "outputs": [],
   "source": [
    "def simple_upsmpl(img,srf):\n",
    "\n",
    "\n",
    "\n",
    "\n",
    "    # Calculate the new dimensions of the image\n",
    "    height, width, channels = img.shape\n",
    "    new_height = int(height * srf)\n",
    "    new_width = int(width * srf)\n",
    "\n",
    "    # Resize the image using bilinear interpolation\n",
    "    new_img = cv2.resize(img, (new_width, new_height), interpolation=cv2.INTER_CUBIC)\n",
    "    \n",
    "    # Save the interpolated image\n",
    "    return new_img\n"
   ]
  },
  {
   "cell_type": "markdown",
   "id": "7c5fa784",
   "metadata": {},
   "source": [
    "# Floating window fo video input"
   ]
  },
  {
   "cell_type": "code",
   "execution_count": 79,
   "id": "a4cb9dc4",
   "metadata": {},
   "outputs": [],
   "source": [
    "def show_file_location(event):\n",
    "    global file_path\n",
    "    file_path = filedialog.askopenfilename()\n",
    "\n",
    "root = tk.Tk()\n",
    "root.geometry(\"250x150\")\n",
    "\n",
    "label = tk.Label(root, text=\"Select a file by \\n clicking on a floating window \\n \\n NOTE --> Close the window after selection\")\n",
    "label.pack(pady=35)\n",
    "\n",
    "\n",
    "label.bind(\"<Button-1>\", show_file_location)\n",
    "\n",
    "root.mainloop()"
   ]
  },
  {
   "cell_type": "markdown",
   "id": "e4a450ab",
   "metadata": {},
   "source": [
    "# Dark Channel Prior  -check pt1"
   ]
  },
  {
   "cell_type": "code",
   "execution_count": 80,
   "id": "b627c27e",
   "metadata": {},
   "outputs": [],
   "source": [
    "def DCP(img,window):                                    \n",
    "    #Spliting image into individual color components--> \n",
    "    R=img[:,:,2]\n",
    "    G=img[:,:,1]\n",
    "    B=img[:,:,0]\n",
    "    h,w,c = img.shape\n",
    "    \n",
    "    #Flatening of image for loop jamming(reducing the number of loops) [other wise have to use 2 nested loop instead of 1]\n",
    "    R1 = np.ravel(R)\n",
    "    G1 = np.ravel(G)\n",
    "    B1 = np.ravel(B)\n",
    "    min_col_ch_img = np.empty(R1.size)    #[check pt1] #may be R1.size = R.size (check)\n",
    "    \n",
    "    for i in range(0,R.size): \n",
    "        min_col_ch_img[i] = min(B1[i],G1[i],R1[i])\n",
    "    \n",
    "    #Reshaping back to 2D image--> \n",
    "    min_col_ch_img = min_col_ch_img.reshape(h,w)\n",
    " \n",
    "    kernel = np.ones((window,window), dtype = int)\n",
    "    dark_ch = cv2.erode(min_col_ch_img,kernel)\n",
    "    return dark_ch"
   ]
  },
  {
   "cell_type": "markdown",
   "id": "5e8eb8a8",
   "metadata": {},
   "source": [
    "# Global atmospheric light estimator (A)"
   ]
  },
  {
   "cell_type": "code",
   "execution_count": 81,
   "id": "0e54169f",
   "metadata": {},
   "outputs": [],
   "source": [
    "def A_estimator(img,dark_ch):\n",
    "    h,w,c = img.shape\n",
    "    \n",
    "    #Spliting image into individual color components--> \n",
    "    B = img[:,:,0]\n",
    "    G = img[:,:,1]\n",
    "    R = img[:,:,2]\n",
    "    \n",
    "    #Flatening of image for loop jamming(reducing the number of loops) [other wise have to use 2 nested loop instead of 1]\n",
    "    B1 =B.ravel()\n",
    "    G1 =G.ravel()\n",
    "    R1 =R.ravel()\n",
    "    \n",
    "    #satcking flattened image to make 2d image in which [row 0] represents B coMponent ; [row 1] represents G component ;[row 2] represents R component \n",
    "    img1= np.vstack((B1,G1,R1))                \n",
    "    dark_ch = dark_ch.ravel()\n",
    "\n",
    "    #Descending order argsorting for 0.1% brightest pixel in dark_channel-->\n",
    "    top_point_1_perc = dark_ch.argsort()[::-1]\n",
    "    \n",
    "    Atm_sum = np.zeros([3])\n",
    "    for i in range(h*w//1000):\n",
    "        Atm_sum[0]=Atm_sum[0] +img1[0][top_point_1_perc [i]]\n",
    "    for i in range(h*w//1000):\n",
    "        Atm_sum[1]=Atm_sum[1] +img1[1][top_point_1_perc [i]]\n",
    "    for i in range(h*w//1000):\n",
    "        Atm_sum[2]=Atm_sum[2] +img1[2][top_point_1_perc [i]] \n",
    "        \n",
    "    Atm_sum = Atm_sum.reshape([1,3])  \n",
    "    A = Atm_sum/(h*w//1000)\n",
    "    return A"
   ]
  },
  {
   "cell_type": "markdown",
   "id": "caccbd8a",
   "metadata": {},
   "source": [
    "# Estimating trans estimator using Aerial perspective"
   ]
  },
  {
   "cell_type": "code",
   "execution_count": 82,
   "id": "90493acd",
   "metadata": {},
   "outputs": [],
   "source": [
    "\n",
    "def Trans_estimation(img, A, window, omega):\n",
    "    #omega = 0.95\n",
    "    img_temp = np.empty(img.shape, img.dtype)\n",
    "    for i in range(3):\n",
    "        img_temp[:,:,i] = img[:,:,i]/A[0,i]\n",
    "    trans = 1 - omega*DCP(img_temp, window)\n",
    "    return trans"
   ]
  },
  {
   "cell_type": "markdown",
   "id": "b7fc36d3",
   "metadata": {},
   "source": [
    "# Guided filter"
   ]
  },
  {
   "cell_type": "code",
   "execution_count": 83,
   "id": "fccd773b",
   "metadata": {},
   "outputs": [],
   "source": [
    "def Guided_filter(I,p,r,eps):\n",
    "    mean_I = cv2.boxFilter(I, cv2.CV_64F, (r,r))\n",
    "    mean_p = cv2.boxFilter(p, cv2.CV_64F, (r,r))\n",
    "    corr_I = cv2.boxFilter(I*I, cv2.CV_64F, (r,r))\n",
    "    corr_Ip = cv2.boxFilter(I*p, cv2.CV_64F, (r,r))\n",
    "    \n",
    "    var_I = corr_I - mean_I*mean_I\n",
    "    cov_Ip = corr_Ip - mean_I*mean_p\n",
    "    \n",
    "    a = cov_Ip / (var_I + eps)\n",
    "    b = mean_p - a*mean_I\n",
    "    \n",
    "    mean_a = cv2.boxFilter(a, cv2.CV_64F, (r,r))\n",
    "    mean_b = cv2.boxFilter(b, cv2.CV_64F, (r,r))\n",
    "    \n",
    "    q = mean_a * I + mean_b\n",
    "    \n",
    "    return q"
   ]
  },
  {
   "cell_type": "markdown",
   "id": "f1d6eef5",
   "metadata": {},
   "source": [
    "# Main dehazing function"
   ]
  },
  {
   "cell_type": "code",
   "execution_count": 84,
   "id": "f77cafc0",
   "metadata": {},
   "outputs": [],
   "source": [
    "def dehaze(img, r, n ,window):    \n",
    "    #threshold\n",
    "    t_0 = 0.1\n",
    "    omega = 0.8\n",
    "    eps = 0.001\n",
    "    \n",
    "    normalized_img = np.float64(img)/255\n",
    "    dark_J = DCP(normalized_img, window)\n",
    "    A = A_estimator(normalized_img, dark_J)\n",
    "    t = Trans_estimation(normalized_img, A, r, omega)\n",
    "    \n",
    "    img_gs = cv2.cvtColor(img, cv2.COLOR_BGR2GRAY)\n",
    "    img_gs = np.float64(img_gs)/255\n",
    "    t_fil = Guided_filter(img_gs,t,r*n,eps)\n",
    "    \n",
    "    t_thre = cv2.max(t_fil, t_0)\n",
    "    J = np.empty(normalized_img.shape, normalized_img.dtype)\n",
    "    for i in range(3):\n",
    "        J[:,:,i] = (normalized_img[:,:,i]-A[0,i])/t_thre + A[0,i]\n",
    "    \n",
    "    return J"
   ]
  },
  {
   "cell_type": "markdown",
   "id": "a35b6f1e",
   "metadata": {},
   "source": [
    "# Extracting frames from video "
   ]
  },
  {
   "cell_type": "code",
   "execution_count": 85,
   "id": "9d2cfc6b",
   "metadata": {},
   "outputs": [
    {
     "name": "stdout",
     "output_type": "stream",
     "text": [
      "Stored frame: 1\n",
      "Stored frame: 2\n",
      "Stored frame: 3\n",
      "Stored frame: 4\n",
      "Stored frame: 5\n",
      "Stored frame: 6\n",
      "Stored frame: 7\n",
      "Stored frame: 8\n",
      "Stored frame: 9\n",
      "Stored frame: 10\n",
      "Stored frame: 11\n",
      "Stored frame: 12\n",
      "Stored frame: 13\n",
      "Stored frame: 14\n",
      "Stored frame: 15\n",
      "Stored frame: 16\n",
      "Stored frame: 17\n",
      "Stored frame: 18\n",
      "Stored frame: 19\n",
      "Stored frame: 20\n",
      "Stored frame: 21\n",
      "Stored frame: 22\n",
      "Stored frame: 23\n",
      "Stored frame: 24\n",
      "Stored frame: 25\n",
      "Stored frame: 26\n",
      "Stored frame: 27\n",
      "Stored frame: 28\n",
      "Stored frame: 29\n",
      "Stored frame: 30\n",
      "Stored frame: 31\n",
      "Stored frame: 32\n",
      "Stored frame: 33\n",
      "Stored frame: 34\n",
      "Stored frame: 35\n",
      "Stored frame: 36\n",
      "Stored frame: 37\n",
      "Stored frame: 38\n",
      "Stored frame: 39\n",
      "Stored frame: 40\n",
      "Stored frame: 41\n",
      "Stored frame: 42\n",
      "Stored frame: 43\n",
      "Stored frame: 44\n",
      "Stored frame: 45\n",
      "Stored frame: 46\n",
      "Stored frame: 47\n",
      "Stored frame: 48\n",
      "Stored frame: 49\n",
      "Stored frame: 50\n",
      "Stored frame: 51\n",
      "Stored frame: 52\n",
      "Stored frame: 53\n",
      "Stored frame: 54\n"
     ]
    }
   ],
   "source": [
    "file_path = file_path.replace(\"/\", \"\\\\\")\n",
    "\n",
    "vid_obj = cv2.VideoCapture(file_path)\n",
    "fps = vid_obj.get(cv2.CAP_PROP_FPS)\n",
    "no_of_frame = 0\n",
    "while(True):\n",
    "    success, frame = vid_obj.read()\n",
    "    if success==False:\n",
    "        break\n",
    "    no_of_frame += 1\n",
    "    print('Stored frame:', no_of_frame)\n",
    "    #params = []\n",
    "    #params.append(1)\n",
    "    cv2.imwrite(\"C:\\\\Users\\\\qa284\\\\Desktop\\\\major project final code settings\\\\@NEW BEGININIGS\\\\testing\\\\extracted_frames\\\\frame\" + \"_%d.png\" % no_of_frame, frame) #, params)\n",
    "vid_obj.release()\n",
    "# params is optional \n",
    "\n"
   ]
  },
  {
   "cell_type": "markdown",
   "id": "65af593c",
   "metadata": {},
   "source": [
    "# Critical parameters"
   ]
  },
  {
   "cell_type": "code",
   "execution_count": 86,
   "id": "6501f4c9",
   "metadata": {},
   "outputs": [],
   "source": [
    "r=5\n",
    "n=8\n",
    "window = 11\n",
    "srf =4 #srf is sampling rate factor"
   ]
  },
  {
   "cell_type": "markdown",
   "id": "d10410eb",
   "metadata": {},
   "source": [
    "# Dehazing frames"
   ]
  },
  {
   "cell_type": "code",
   "execution_count": 92,
   "id": "db5a4dab",
   "metadata": {},
   "outputs": [
    {
     "name": "stdout",
     "output_type": "stream",
     "text": [
      "Dehazed frame: 1 \t | \t Time_taken: 0.515323200000239 seconds\n",
      "--------------------------------------------------------------------------\n",
      "Dehazed frame: 2 \t | \t Time_taken: 0.49534749999975247 seconds\n",
      "--------------------------------------------------------------------------\n",
      "Dehazed frame: 3 \t | \t Time_taken: 0.511587899999995 seconds\n",
      "--------------------------------------------------------------------------\n",
      "Dehazed frame: 4 \t | \t Time_taken: 0.49068020000004253 seconds\n",
      "--------------------------------------------------------------------------\n",
      "Dehazed frame: 5 \t | \t Time_taken: 0.5678452999995898 seconds\n",
      "--------------------------------------------------------------------------\n",
      "Dehazed frame: 6 \t | \t Time_taken: 0.5536591000000044 seconds\n",
      "--------------------------------------------------------------------------\n",
      "Dehazed frame: 7 \t | \t Time_taken: 0.552484800000002 seconds\n",
      "--------------------------------------------------------------------------\n",
      "Dehazed frame: 8 \t | \t Time_taken: 0.5552848000002086 seconds\n",
      "--------------------------------------------------------------------------\n",
      "Dehazed frame: 9 \t | \t Time_taken: 0.5075726000000031 seconds\n",
      "--------------------------------------------------------------------------\n",
      "Dehazed frame: 10 \t | \t Time_taken: 0.5382596999997986 seconds\n",
      "--------------------------------------------------------------------------\n",
      "Dehazed frame: 11 \t | \t Time_taken: 0.534827899999982 seconds\n",
      "--------------------------------------------------------------------------\n",
      "Dehazed frame: 12 \t | \t Time_taken: 0.5759385999999722 seconds\n",
      "--------------------------------------------------------------------------\n",
      "Dehazed frame: 13 \t | \t Time_taken: 0.548464899999999 seconds\n",
      "--------------------------------------------------------------------------\n",
      "Dehazed frame: 14 \t | \t Time_taken: 0.567287700000179 seconds\n",
      "--------------------------------------------------------------------------\n",
      "Dehazed frame: 15 \t | \t Time_taken: 0.5295037000000775 seconds\n",
      "--------------------------------------------------------------------------\n",
      "Dehazed frame: 16 \t | \t Time_taken: 0.5068988000002719 seconds\n",
      "--------------------------------------------------------------------------\n",
      "Dehazed frame: 17 \t | \t Time_taken: 0.5489775999999438 seconds\n",
      "--------------------------------------------------------------------------\n",
      "Dehazed frame: 18 \t | \t Time_taken: 0.7049415999999837 seconds\n",
      "--------------------------------------------------------------------------\n",
      "Dehazed frame: 19 \t | \t Time_taken: 0.6019336999997904 seconds\n",
      "--------------------------------------------------------------------------\n",
      "Dehazed frame: 20 \t | \t Time_taken: 0.6422591000000466 seconds\n",
      "--------------------------------------------------------------------------\n",
      "Dehazed frame: 21 \t | \t Time_taken: 0.5478201999999328 seconds\n",
      "--------------------------------------------------------------------------\n",
      "Dehazed frame: 22 \t | \t Time_taken: 0.6423328000000765 seconds\n",
      "--------------------------------------------------------------------------\n",
      "Dehazed frame: 23 \t | \t Time_taken: 0.539572500000304 seconds\n",
      "--------------------------------------------------------------------------\n",
      "Dehazed frame: 24 \t | \t Time_taken: 0.574377700000241 seconds\n",
      "--------------------------------------------------------------------------\n",
      "Dehazed frame: 25 \t | \t Time_taken: 0.6019368000002032 seconds\n",
      "--------------------------------------------------------------------------\n",
      "Dehazed frame: 26 \t | \t Time_taken: 0.5760596000000078 seconds\n",
      "--------------------------------------------------------------------------\n",
      "Dehazed frame: 27 \t | \t Time_taken: 0.5190909000002648 seconds\n",
      "--------------------------------------------------------------------------\n",
      "Dehazed frame: 28 \t | \t Time_taken: 0.5204914999999346 seconds\n",
      "--------------------------------------------------------------------------\n",
      "Dehazed frame: 29 \t | \t Time_taken: 0.5187142999998287 seconds\n",
      "--------------------------------------------------------------------------\n",
      "Dehazed frame: 30 \t | \t Time_taken: 0.5857387999999446 seconds\n",
      "--------------------------------------------------------------------------\n",
      "Dehazed frame: 31 \t | \t Time_taken: 0.5408504999995785 seconds\n",
      "--------------------------------------------------------------------------\n",
      "Dehazed frame: 32 \t | \t Time_taken: 0.5369911000002503 seconds\n",
      "--------------------------------------------------------------------------\n",
      "Dehazed frame: 33 \t | \t Time_taken: 0.543576099999882 seconds\n",
      "--------------------------------------------------------------------------\n",
      "Dehazed frame: 34 \t | \t Time_taken: 0.5133199000001696 seconds\n",
      "--------------------------------------------------------------------------\n",
      "Dehazed frame: 35 \t | \t Time_taken: 0.5140937999999551 seconds\n",
      "--------------------------------------------------------------------------\n",
      "Dehazed frame: 36 \t | \t Time_taken: 0.53619290000006 seconds\n",
      "--------------------------------------------------------------------------\n",
      "Dehazed frame: 37 \t | \t Time_taken: 0.5136646000000837 seconds\n",
      "--------------------------------------------------------------------------\n",
      "Dehazed frame: 38 \t | \t Time_taken: 0.5293836000000738 seconds\n",
      "--------------------------------------------------------------------------\n",
      "Dehazed frame: 39 \t | \t Time_taken: 0.5251926999999341 seconds\n",
      "--------------------------------------------------------------------------\n",
      "Dehazed frame: 40 \t | \t Time_taken: 0.5472311999997146 seconds\n",
      "--------------------------------------------------------------------------\n",
      "Dehazed frame: 41 \t | \t Time_taken: 0.5703615000002173 seconds\n",
      "--------------------------------------------------------------------------\n",
      "Dehazed frame: 42 \t | \t Time_taken: 0.5401277000000846 seconds\n",
      "--------------------------------------------------------------------------\n",
      "Dehazed frame: 43 \t | \t Time_taken: 0.5420795999998518 seconds\n",
      "--------------------------------------------------------------------------\n",
      "Dehazed frame: 44 \t | \t Time_taken: 0.5174068000001171 seconds\n",
      "--------------------------------------------------------------------------\n",
      "Dehazed frame: 45 \t | \t Time_taken: 0.530712400000084 seconds\n",
      "--------------------------------------------------------------------------\n",
      "Dehazed frame: 46 \t | \t Time_taken: 0.5288611999999375 seconds\n",
      "--------------------------------------------------------------------------\n",
      "Dehazed frame: 47 \t | \t Time_taken: 0.5283588000002055 seconds\n",
      "--------------------------------------------------------------------------\n",
      "Dehazed frame: 48 \t | \t Time_taken: 0.5158910000000105 seconds\n",
      "--------------------------------------------------------------------------\n",
      "Dehazed frame: 49 \t | \t Time_taken: 0.5195856999998796 seconds\n",
      "--------------------------------------------------------------------------\n",
      "Dehazed frame: 50 \t | \t Time_taken: 0.5375393999997868 seconds\n",
      "--------------------------------------------------------------------------\n",
      "Dehazed frame: 51 \t | \t Time_taken: 0.5289336000000731 seconds\n",
      "--------------------------------------------------------------------------\n",
      "Dehazed frame: 52 \t | \t Time_taken: 0.5275474000000031 seconds\n",
      "--------------------------------------------------------------------------\n",
      "Dehazed frame: 53 \t | \t Time_taken: 0.5203698000000259 seconds\n",
      "--------------------------------------------------------------------------\n",
      "Dehazed frame: 54 \t | \t Time_taken: 0.5691818999998759 seconds\n",
      "--------------------------------------------------------------------------\n"
     ]
    }
   ],
   "source": [
    "x_fc=[]\n",
    "y_time=[]\n",
    "\n",
    "\n",
    "\n",
    "for f in range(1,no_of_frame+1):\n",
    "    \n",
    "    im_file = os.path.join('C:\\\\Users\\\\qa284\\\\Desktop\\\\major project final code settings\\\\@NEW BEGININIGS\\\\testing\\\\extracted_frames', 'frame_'+str(f)+'.png')\n",
    "    img = cv2.imread(im_file)\n",
    "    \n",
    "    #timer starts \n",
    "    start = time()\n",
    "    \n",
    "      #downsampling frames -->\n",
    "    img = simple_downsmpl(img,srf)\n",
    "   \n",
    "    J = dehaze(img, r, n,window)\n",
    "\n",
    "        \n",
    "    \n",
    "    \n",
    "    #timer ends \n",
    "    \n",
    "    \n",
    "    im_file = os.path.join('C:\\\\Users\\\\qa284\\\\Desktop\\\\major project final code settings\\\\@NEW BEGININIGS\\\\testing\\\\dehazed_frames', 'frame_'+str(f)+'.png')\n",
    "    cv2.imwrite(im_file, simple_upsmpl(J*255,srf))\n",
    "    end = time()\n",
    "    \n",
    "    elpsd_time =end - start\n",
    "    x_fc.append(f)\n",
    "    y_time.append(elpsd_time)\n",
    "    print('Dehazed frame:',f ,\"\\t | \\t Time_taken:\",y_time[f-1],\"seconds\")\n",
    "    print(\"--------------------------------------------------------------------------\")"
   ]
  },
  {
   "cell_type": "markdown",
   "id": "5107de27",
   "metadata": {},
   "source": [
    "# Frame assembling to make dehazed video "
   ]
  },
  {
   "cell_type": "code",
   "execution_count": 88,
   "id": "253025f3",
   "metadata": {},
   "outputs": [
    {
     "name": "stdout",
     "output_type": "stream",
     "text": [
      "24.0\n"
     ]
    }
   ],
   "source": [
    "file_path = file_path.replace(\"/\", \"\\\\\")\n",
    "vid_obj = cv2.VideoCapture(file_path)\n",
    "fps = vid_obj.get(cv2.CAP_PROP_FPS)\n",
    "print(fps)"
   ]
  },
  {
   "cell_type": "code",
   "execution_count": 89,
   "id": "a48ea3c6",
   "metadata": {},
   "outputs": [
    {
     "name": "stdout",
     "output_type": "stream",
     "text": [
      "Assembling dehazed frames to make up Video ==>\n"
     ]
    }
   ],
   "source": [
    "  \n",
    "fps = vid_obj.get(cv2.CAP_PROP_FPS)\n",
    "demo = cv2.imread('C:\\\\Users\\\\qa284\\\\Desktop\\\\major project final code settings\\\\@NEW BEGININIGS\\\\testing\\\\dehazed_frames\\\\frame_1.png')\n",
    "demo = np.min(demo, axis = 2)\n",
    "size = demo.shape\n",
    "size = (size[1],size[0])\n",
    "print('Assembling dehazed frames to make up Video ==>')\n",
    "cap = cv2.VideoWriter(\"C:\\\\Users\\\\qa284\\\\Desktop\\\\major project final code settings\\\\@NEW BEGININIGS\\\\testing\\\\dehazed_video.avi\",cv2.VideoWriter_fourcc('M', 'J', 'P', 'G'), fps, size)\n",
    "for i in range(1,no_of_frame+1):\n",
    "    im_file = os.path.join('C:\\\\Users\\\\qa284\\\\Desktop\\\\major project final code settings\\\\@NEW BEGININIGS\\\\testing\\\\dehazed_frames', 'frame_'+str(i)+'.png')\n",
    "    img = cv2.imread(im_file)\n",
    "    cap.write(img)\n",
    "cap.release()\n"
   ]
  },
  {
   "cell_type": "markdown",
   "id": "44011a2c",
   "metadata": {},
   "source": [
    "# Timing plots and other details "
   ]
  },
  {
   "cell_type": "code",
   "execution_count": 45,
   "id": "7652243b",
   "metadata": {},
   "outputs": [
    {
     "name": "stdout",
     "output_type": "stream",
     "text": [
      "[1, 2, 3, 4, 5, 6, 7, 8, 9, 10, 11, 12, 13, 14, 15, 16, 17, 18, 19, 20, 21, 22, 23, 24, 25, 26, 27, 28, 29, 30, 31, 32, 33, 34, 35, 36, 37, 38, 39, 40, 41, 42, 43, 44, 45, 46, 47, 48, 49, 50, 51, 52, 53, 54]\n",
      "[1.6906719000000408, 1.6500405999999543, 1.5842437000000018, 1.5810628000000406, 1.578027700000007, 1.704000600000029, 1.734831999999983, 1.7260602000000063, 1.5846601000000078, 1.6336273000000006, 1.6116966999999818, 1.595376299999998, 1.6466764000000467, 1.720835299999976, 1.6098407999999722, 1.63420229999997, 1.6618376999999782, 1.623000100000013, 1.9476311999999893, 1.6603915999999685, 1.6919144000000301, 1.6758231000000023, 1.6392002000000048, 1.7078697000000034, 1.8091425999999728, 1.6270913000000178, 1.6157784999999762, 1.6526664000000437, 1.8066418000000226, 1.7380955000000426, 1.6294002999999861, 1.5990004999999883, 1.5886844999999994, 1.5748346999999967, 1.5981090000000222, 1.6525204000000144, 1.7833186999999953, 1.9095848000000046, 1.7425693999999794, 1.8349049000000264, 2.0015756999999894, 1.9547856000000365, 1.7752126999999973, 2.110988799999973, 2.1841454999999996, 2.1863210999999865, 1.9514080999999805, 2.003596899999991, 1.739632599999993, 1.9235270000000355, 1.9827396000000022, 1.9750313999999776, 1.8255719, 1.8462167000000136]\n"
     ]
    }
   ],
   "source": [
    "print(x_fc)\n",
    "print(y_time)"
   ]
  },
  {
   "cell_type": "code",
   "execution_count": 46,
   "id": "a71c2f61",
   "metadata": {},
   "outputs": [
    {
     "name": "stdout",
     "output_type": "stream",
     "text": [
      "----------------------------------------------------------------------------------\n",
      "Frames per second of video--> 24.0\n",
      "----------------------------------------------------------------------------------\n",
      "video duration [hh:mm:ss]--> 0:00:02\n",
      "----------------------------------------------------------------------------------\n",
      "Total number of frames in video: 54.0\n",
      "----------------------------------------------------------------------------------\n",
      "Total time for dehazing video: 94.51661960000007\n",
      "----------------------------------------------------------------------------------\n",
      "Average time for dehazing per frame: 1.7503077703703716\n",
      "----------------------------------------------------------------------------------\n",
      "maximum processing time for a frame 2.1863210999999865\n",
      "----------------------------------------------------------------------------------\n",
      "minimum processing time for a frame 1.5748346999999967\n",
      "----------------------------------------------------------------------------------\n"
     ]
    },
    {
     "data": {
      "image/png": "[encoded data removed]",
      "text/plain": [
       "<Figure size 432x288 with 1 Axes>"
      ]
     },
     "metadata": {
      "needs_background": "light"
     },
     "output_type": "display_data"
    }
   ],
   "source": [
    "print(\"----------------------------------------------------------------------------------\")\n",
    "frames = vid_obj.get(cv2.CAP_PROP_FRAME_COUNT)\n",
    "fps = vid_obj.get(cv2.CAP_PROP_FPS)\n",
    "seconds = round(frames / fps)\n",
    "video_time = datetime.timedelta(seconds=seconds)\n",
    "print(f\"Frames per second of video--> {fps}\")\n",
    "print(\"----------------------------------------------------------------------------------\")\n",
    "print(f\"video duration [hh:mm:ss]--> {video_time}\")\n",
    "print(\"----------------------------------------------------------------------------------\")\n",
    "print(\"Total number of frames in video:\",frames)\n",
    "print(\"----------------------------------------------------------------------------------\")\n",
    "print(\"Total time for dehazing video:\",sum(y_time))\n",
    "print(\"----------------------------------------------------------------------------------\")\n",
    "print(\"Average time for dehazing per frame:\",sum(y_time)/len(y_time))\n",
    "print(\"----------------------------------------------------------------------------------\")\n",
    "print(\"maximum processing time for a frame\", max(y_time) )\n",
    "print(\"----------------------------------------------------------------------------------\")\n",
    "print(\"minimum processing time for a frame\", min(y_time) )\n",
    "print(\"----------------------------------------------------------------------------------\")\n",
    "# print(y_time)\n",
    "# print(\"----------------------------------------------------------------------------------\")\n",
    "# print(res)\n",
    "# print(\"----------------------------------------------------------------------------------\")\n",
    "# print(x_fc)\n",
    "# print(\"----------------------------------------------------------------------------------\")\n",
    "# print(len(y_time))\n",
    "# print(\"----------------------------------------------------------------------------------\")\n",
    "plt.scatter(x_fc,y_time)\n",
    "plt.ylabel(\"time [seconds] -->\")\n",
    "plt.xlabel(\"Frame Number-->\")\n",
    "plt.text(3,2.15 , f'frames in video: { len(y_time) } ' , bbox=dict(facecolor='red', alpha=0.5))\n",
    "plt.show()"
   ]
  },
  {
   "cell_type": "code",
   "execution_count": null,
   "id": "2df96976",
   "metadata": {},
   "outputs": [],
   "source": []
  },
  {
   "cell_type": "code",
   "execution_count": null,
   "id": "2a900ae8",
   "metadata": {},
   "outputs": [],
   "source": []
  },
  {
   "cell_type": "code",
   "execution_count": null,
   "id": "e90a7f5e",
   "metadata": {},
   "outputs": [],
   "source": []
  }
 ],
 "metadata": {
  "kernelspec": {
   "display_name": "Python 3 (ipykernel)",
   "language": "python",
   "name": "python3"
  },
  "language_info": {
   "codemirror_mode": {
    "name": "ipython",
    "version": 3
   },
   "file_extension": ".py",
   "mimetype": "text/x-python",
   "name": "python",
   "nbconvert_exporter": "python",
   "pygments_lexer": "ipython3",
   "version": "3.9.12"
  }
 },
 "nbformat": 4,
 "nbformat_minor": 5
}
