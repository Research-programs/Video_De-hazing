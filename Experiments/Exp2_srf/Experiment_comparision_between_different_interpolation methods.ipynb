{
 "cells": [
  {
   "cell_type": "code",
   "execution_count": null,
   "id": "0fcd2958",
   "metadata": {},
   "outputs": [],
   "source": [
    "import cv2\n",
    "import numpy as np\n",
    "import matplotlib.pyplot as plt\n",
    "from timeit import default_timer as time "
   ]
  },
  {
   "cell_type": "markdown",
   "id": "e5b240bf",
   "metadata": {},
   "source": [
    "# trials is for number of time experiment repeated\n",
    "# srf - sampling rate factor"
   ]
  },
  {
   "cell_type": "code",
   "execution_count": null,
   "id": "1bae55fb",
   "metadata": {},
   "outputs": [],
   "source": [
    "trials = 10\n",
    "srf = 10\n",
    "img = cv2.imread(\"C:/Users/qa284/Downloads/im.jpg\") "
   ]
  },
  {
   "cell_type": "markdown",
   "id": "ae2ae888",
   "metadata": {},
   "source": [
    "# Simple down-sampling method"
   ]
  },
  {
   "cell_type": "code",
   "execution_count": null,
   "id": "3a683508",
   "metadata": {},
   "outputs": [],
   "source": [
    "def simple_downsmpl(img ,srf):\n",
    "    im_array = np.array(img)\n",
    "    im_downsampled = im_array[::srf, ::srf, :]\n",
    "    return im_downsampled"
   ]
  },
  {
   "cell_type": "markdown",
   "id": "52f842a8",
   "metadata": {},
   "source": [
    "# Nearest neighbour interpolation method"
   ]
  },
  {
   "cell_type": "code",
   "execution_count": null,
   "id": "92b5d00e",
   "metadata": {},
   "outputs": [],
   "source": [
    "def NNIp(img,srf):\n",
    "    height, width, channels = img.shape\n",
    "    new_height = int(height * srf)\n",
    "    new_width = int(width * srf)\n",
    "    new_img = cv2.resize(img, (new_width, new_height), interpolation=cv2.INTER_NEAREST)\n",
    "    return new_img"
   ]
  },
  {
   "cell_type": "markdown",
   "id": "00ea77ba",
   "metadata": {},
   "source": [
    "# Bilinear interpolation method"
   ]
  },
  {
   "cell_type": "code",
   "execution_count": null,
   "id": "ab94b16e",
   "metadata": {},
   "outputs": [],
   "source": [
    "def BLIp(img,srf):\n",
    "    height, width, channels = img.shape\n",
    "    new_height = int(height * srf)\n",
    "    new_width = int(width * srf)\n",
    "    new_img = cv2.resize(img, (new_width, new_height), interpolation=cv2.INTER_LINEAR)\n",
    "    return new_img"
   ]
  },
  {
   "cell_type": "markdown",
   "id": "7f2b315c",
   "metadata": {},
   "source": [
    "# Bicubic interpolation method"
   ]
  },
  {
   "cell_type": "code",
   "execution_count": null,
   "id": "4a84bed1",
   "metadata": {},
   "outputs": [],
   "source": [
    "def BCIp(img,srf):\n",
    "    height, width, channels = img.shape\n",
    "    new_height = int(height * srf)\n",
    "    new_width = int(width * srf)\n",
    "    new_img = cv2.resize(img, (new_width, new_height), interpolation=cv2.INTER_CUBIC)\n",
    "    return new_img"
   ]
  },
  {
   "cell_type": "markdown",
   "id": "bea5069c",
   "metadata": {},
   "source": [
    "# Time sampling for Nearest neighbour interpolation method"
   ]
  },
  {
   "cell_type": "code",
   "execution_count": null,
   "id": "db314fa7",
   "metadata": {},
   "outputs": [],
   "source": [
    "NNIp_time=[]\n",
    "for i in range(trials):\n",
    "    start = time()\n",
    "    down_sampled_img = simple_downsmpl(img ,srf)\n",
    "    up_sampled_img = NNIp(img,srf)\n",
    "    end = time()\n",
    "    elpsd_time =end - start\n",
    "    NNIp_time.append(elpsd_time)"
   ]
  },
  {
   "cell_type": "markdown",
   "id": "e079db2d",
   "metadata": {},
   "source": [
    "# Time sampling for Bilinear interpolation method"
   ]
  },
  {
   "cell_type": "code",
   "execution_count": null,
   "id": "89dc72c4",
   "metadata": {},
   "outputs": [],
   "source": [
    "BLIp_time=[]\n",
    "for i in range(trials):\n",
    "    start = time()\n",
    "    down_sampled_img = simple_downsmpl(img ,srf)\n",
    "    up_sampled_img = BLIp(img,srf)\n",
    "    end = time()\n",
    "    elpsd_time =end - start\n",
    "    BLIp_time.append(elpsd_time)"
   ]
  },
  {
   "cell_type": "markdown",
   "id": "805814f1",
   "metadata": {},
   "source": [
    "# Time sampling for Bicubic interpolation method"
   ]
  },
  {
   "cell_type": "code",
   "execution_count": null,
   "id": "9ffefed0",
   "metadata": {},
   "outputs": [],
   "source": [
    "BCIp_time=[]\n",
    "for i in range(trials):\n",
    "    start = time()\n",
    "    down_sampled_img = simple_downsmpl(img ,srf)\n",
    "    up_sampled_img = BCIp(img,srf)\n",
    "    end = time()\n",
    "    elpsd_time =end - start\n",
    "    BCIp_time.append(elpsd_time)"
   ]
  },
  {
   "cell_type": "markdown",
   "id": "6c27dc83",
   "metadata": {},
   "source": [
    "# X-axis"
   ]
  },
  {
   "cell_type": "code",
   "execution_count": null,
   "id": "ea46749c",
   "metadata": {},
   "outputs": [],
   "source": [
    "no_of_trials = []\n",
    "for i in range(len(BCIp_time)):\n",
    "    no_of_trials.append(i+1)"
   ]
  },
  {
   "cell_type": "markdown",
   "id": "eb0a026c",
   "metadata": {},
   "source": [
    "# plots"
   ]
  },
  {
   "cell_type": "code",
   "execution_count": null,
   "id": "52831f0c",
   "metadata": {},
   "outputs": [],
   "source": [
    "plt.plot(no_of_trials , NNIp_time,color=\"red\")\n",
    "plt.plot(no_of_trials , BLIp_time, color=\"green\")\n",
    "plt.plot(no_of_trials , BCIp_time, color=\"blue\")\n",
    "plt.ylabel(\"time taken in seconds\")\n",
    "plt.xlabel(\"Trial number\")\n",
    "plt.text(4,2.72, \"sampling rate factor = \" + str(srf), fontsize = 11)\n",
    "plt.text(12,0.11, \"red represents timegraph for downsampling + nearest neighbour interpolation method\", fontsize = 11)\n",
    "plt.text(12,0.12, \"green represents timegraph for  downsampling + bilinear interpolation method\", fontsize = 11)\n",
    "plt.text(12,0.13, \"blue represents timegraph for downsampling + bicubic interpolation method\", fontsize = 11)\n",
    "plt.show()"
   ]
  },
  {
   "cell_type": "markdown",
   "id": "fba8c238",
   "metadata": {},
   "source": [
    "# Saving resulting images"
   ]
  },
  {
   "cell_type": "code",
   "execution_count": null,
   "id": "d09a8cf8",
   "metadata": {},
   "outputs": [],
   "source": [
    "down_sampled_img = simple_downsmpl(img ,srf)\n",
    "cv2.imwrite(\"C:/Users/qa284/Downloads/exp2/downsampling/ds.jpg\", down_sampled_img)\n",
    "up_sampled_img1 = NNIp(img,srf)\n",
    "up_sampled_img2 = BLIp(img,srf)\n",
    "up_sampled_img3 = BCIp(img,srf)\n",
    "cv2.imwrite(\"C:/Users/qa284/Downloads/exp2/up1/up1.jpg\", up_sampled_img1) # save image\n",
    "cv2.imwrite(\"C:/Users/qa284/Downloads/exp2/up2/up2.jpg\", up_sampled_img2) # save image\n",
    "cv2.imwrite(\"C:/Users/qa284/Downloads/exp2/up3/up3.jpg\", up_sampled_img3) # save image"
   ]
  }
 ],
 "metadata": {
  "kernelspec": {
   "display_name": "Python 3 (ipykernel)",
   "language": "python",
   "name": "python3"
  },
  "language_info": {
   "codemirror_mode": {
    "name": "ipython",
    "version": 3
   },
   "file_extension": ".py",
   "mimetype": "text/x-python",
   "name": "python",
   "nbconvert_exporter": "python",
   "pygments_lexer": "ipython3",
   "version": "3.9.12"
  }
 },
 "nbformat": 4,
 "nbformat_minor": 5
}
