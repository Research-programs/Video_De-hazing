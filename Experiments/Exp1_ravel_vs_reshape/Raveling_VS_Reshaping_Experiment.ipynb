{
 "cells": [
  {
   "cell_type": "code",
   "execution_count": null,
   "id": "46327420",
   "metadata": {},
   "outputs": [],
   "source": [
    "import cv2\n",
    "import numpy as np\n",
    "import matplotlib.pyplot as plt\n",
    "from timeit import default_timer as time "
   ]
  },
  {
   "cell_type": "markdown",
   "id": "d170bab8",
   "metadata": {},
   "source": [
    "# 2D array size = size x size\n",
    "# trials is for number of time experiment repeated"
   ]
  },
  {
   "cell_type": "code",
   "execution_count": null,
   "id": "cb5582af",
   "metadata": {},
   "outputs": [],
   "source": [
    "size = 200\n",
    "trials = 10"
   ]
  },
  {
   "cell_type": "markdown",
   "id": "84b09055",
   "metadata": {},
   "source": [
    "# 2D array representing a simple gray scale image"
   ]
  },
  {
   "cell_type": "code",
   "execution_count": null,
   "id": "f50ac6d4",
   "metadata": {},
   "outputs": [],
   "source": [
    "img_for_ravel = np.ones([size, size], dtype = int)\n",
    "img_for_reshape = np.ones([size, size], dtype = int)"
   ]
  },
  {
   "cell_type": "markdown",
   "id": "ebd45f66",
   "metadata": {},
   "source": [
    "# Experiment for raveling"
   ]
  },
  {
   "cell_type": "code",
   "execution_count": null,
   "id": "9ec1d9b1",
   "metadata": {},
   "outputs": [],
   "source": [
    "ravel_time=[]\n",
    "for i in range(trials):\n",
    "    start = time()\n",
    "    img_raveled = img_for_ravel.ravel()\n",
    "    end = time()\n",
    "    elpsd_time =end - start\n",
    "    ravel_time.append(elpsd_time)"
   ]
  },
  {
   "cell_type": "markdown",
   "id": "4c034d36",
   "metadata": {},
   "source": [
    "# Experiment for reshaping"
   ]
  },
  {
   "cell_type": "code",
   "execution_count": null,
   "id": "dc9b7c88",
   "metadata": {},
   "outputs": [],
   "source": [
    "reshape_time=[]\n",
    "for i in range(trials):\n",
    "    start1 = time()\n",
    "    h,w = img_for_reshape.shape\n",
    "    img_reshaped = img_for_reshape.reshape(h*w)\n",
    "    end1 = time()\n",
    "    elpsd_time1 =end1 - start1\n",
    "    reshape_time.append(elpsd_time1)"
   ]
  },
  {
   "cell_type": "markdown",
   "id": "268a3bb3",
   "metadata": {},
   "source": [
    "# X- axis"
   ]
  },
  {
   "cell_type": "code",
   "execution_count": null,
   "id": "143e0a28",
   "metadata": {},
   "outputs": [],
   "source": [
    "no_of_trials = []\n",
    "for i in range(len(reshape_time)):\n",
    "    no_of_trials.append(i+1)"
   ]
  },
  {
   "cell_type": "markdown",
   "id": "a1549cef",
   "metadata": {},
   "source": [
    "# Conversion of time from seconds to micro seconds"
   ]
  },
  {
   "cell_type": "code",
   "execution_count": null,
   "id": "7121a744",
   "metadata": {},
   "outputs": [],
   "source": [
    "ravel_time_micro_sec = [i * 1e6 for i in ravel_time]\n",
    "reshape_time_micro_sec = [i * 1e6 for i in reshape_time]"
   ]
  },
  {
   "cell_type": "markdown",
   "id": "925b2ebb",
   "metadata": {},
   "source": [
    "# Comparision plot "
   ]
  },
  {
   "cell_type": "code",
   "execution_count": null,
   "id": "74e4f657",
   "metadata": {},
   "outputs": [],
   "source": [
    "plt.plot(no_of_trials , ravel_time_micro_sec,color=\"red\")\n",
    "plt.plot(no_of_trials , reshape_time_micro_sec, color=\"blue\")\n",
    "plt.ylabel(\"time taken in microseconds\")\n",
    "plt.xlabel(\"Trial number\")\n",
    "plt.show()"
   ]
  }
 ],
 "metadata": {
  "kernelspec": {
   "display_name": "Python 3 (ipykernel)",
   "language": "python",
   "name": "python3"
  },
  "language_info": {
   "codemirror_mode": {
    "name": "ipython",
    "version": 3
   },
   "file_extension": ".py",
   "mimetype": "text/x-python",
   "name": "python",
   "nbconvert_exporter": "python",
   "pygments_lexer": "ipython3",
   "version": "3.9.12"
  }
 },
 "nbformat": 4,
 "nbformat_minor": 5
}
