{
 "cells": [
  {
   "cell_type": "code",
   "execution_count": 191,
   "id": "ff4c1988",
   "metadata": {},
   "outputs": [],
   "source": [
    "import cv2\n",
    "import numpy as np\n",
    "import matplotlib.pyplot as plt\n",
    "from timeit import default_timer as time "
   ]
  },
  {
   "cell_type": "markdown",
   "id": "07dd7f01",
   "metadata": {},
   "source": [
    "# trials is for number of time experiment repeated\n",
    "# srf - sampling rate factor"
   ]
  },
  {
   "cell_type": "code",
   "execution_count": 192,
   "id": "9e57cbac",
   "metadata": {},
   "outputs": [],
   "source": [
    "trials = 10\n",
    "srf = 10\n",
    "img = cv2.imread(\"C:/Users/qa284/Downloads/im.jpg\") "
   ]
  },
  {
   "cell_type": "markdown",
   "id": "f799938a",
   "metadata": {},
   "source": [
    "# Simple down-sampling method"
   ]
  },
  {
   "cell_type": "code",
   "execution_count": 193,
   "id": "e8cb55b4",
   "metadata": {},
   "outputs": [],
   "source": [
    "def simple_downsmpl(img ,srf):\n",
    "    im_array = np.array(img)\n",
    "    im_downsampled = im_array[::srf, ::srf, :]\n",
    "    return im_downsampled"
   ]
  },
  {
   "cell_type": "markdown",
   "id": "3b6699c7",
   "metadata": {},
   "source": [
    "# Nearest neighbour interpolation method"
   ]
  },
  {
   "cell_type": "code",
   "execution_count": 194,
   "id": "40d6d514",
   "metadata": {},
   "outputs": [],
   "source": [
    "def NNIp(img,srf):\n",
    "    height, width, channels = img.shape\n",
    "    new_height = int(height * srf)\n",
    "    new_width = int(width * srf)\n",
    "    new_img = cv2.resize(img, (new_width, new_height), interpolation=cv2.INTER_NEAREST)\n",
    "    return new_img"
   ]
  },
  {
   "cell_type": "markdown",
   "id": "7f9cccc2",
   "metadata": {},
   "source": [
    "# Bilinear interpolation method"
   ]
  },
  {
   "cell_type": "code",
   "execution_count": 195,
   "id": "19303edc",
   "metadata": {},
   "outputs": [],
   "source": [
    "def BLIp(img,srf):\n",
    "    height, width, channels = img.shape\n",
    "    new_height = int(height * srf)\n",
    "    new_width = int(width * srf)\n",
    "    new_img = cv2.resize(img, (new_width, new_height), interpolation=cv2.INTER_LINEAR)\n",
    "    return new_img"
   ]
  },
  {
   "cell_type": "markdown",
   "id": "a86940a6",
   "metadata": {},
   "source": [
    "# Bicubic interpolation method"
   ]
  },
  {
   "cell_type": "code",
   "execution_count": 196,
   "id": "1d27d624",
   "metadata": {},
   "outputs": [],
   "source": [
    "def BCIp(img,srf):\n",
    "    height, width, channels = img.shape\n",
    "    new_height = int(height * srf)\n",
    "    new_width = int(width * srf)\n",
    "    new_img = cv2.resize(img, (new_width, new_height), interpolation=cv2.INTER_CUBIC)\n",
    "    return new_img"
   ]
  },
  {
   "cell_type": "markdown",
   "id": "014a2008",
   "metadata": {},
   "source": [
    "# Time sampling for Nearest neighbour interpolation method"
   ]
  },
  {
   "cell_type": "code",
   "execution_count": 197,
   "id": "dd65d0e0",
   "metadata": {},
   "outputs": [],
   "source": [
    "NNIp_time=[]\n",
    "for i in range(trials):\n",
    "    start = time()\n",
    "    down_sampled_img = simple_downsmpl(img ,srf)\n",
    "    up_sampled_img = NNIp(img,srf)\n",
    "    end = time()\n",
    "    elpsd_time =end - start\n",
    "    NNIp_time.append(elpsd_time)"
   ]
  },
  {
   "cell_type": "markdown",
   "id": "72b8f687",
   "metadata": {},
   "source": [
    "# Time sampling for Bilinear interpolation method"
   ]
  },
  {
   "cell_type": "code",
   "execution_count": 198,
   "id": "f334d492",
   "metadata": {},
   "outputs": [],
   "source": [
    "BLIp_time=[]\n",
    "for i in range(trials):\n",
    "    start = time()\n",
    "    down_sampled_img = simple_downsmpl(img ,srf)\n",
    "    up_sampled_img = BLIp(img,srf)\n",
    "    end = time()\n",
    "    elpsd_time =end - start\n",
    "    BLIp_time.append(elpsd_time)"
   ]
  },
  {
   "cell_type": "markdown",
   "id": "fdd09dad",
   "metadata": {},
   "source": [
    "# Time sampling for Bicubic interpolation method"
   ]
  },
  {
   "cell_type": "code",
   "execution_count": 199,
   "id": "99d80a0d",
   "metadata": {},
   "outputs": [],
   "source": [
    "BCIp_time=[]\n",
    "for i in range(trials):\n",
    "    start = time()\n",
    "    down_sampled_img = simple_downsmpl(img ,srf)\n",
    "    up_sampled_img = BCIp(img,srf)\n",
    "    end = time()\n",
    "    elpsd_time =end - start\n",
    "    BCIp_time.append(elpsd_time)"
   ]
  },
  {
   "cell_type": "markdown",
   "id": "3124cb4b",
   "metadata": {},
   "source": [
    "# X-axis"
   ]
  },
  {
   "cell_type": "code",
   "execution_count": 200,
   "id": "14de61be",
   "metadata": {},
   "outputs": [],
   "source": [
    "no_of_trials = []\n",
    "for i in range(len(BCIp_time)):\n",
    "    no_of_trials.append(i+1)"
   ]
  },
  {
   "cell_type": "markdown",
   "id": "747e2125",
   "metadata": {},
   "source": [
    "# plots"
   ]
  },
  {
   "cell_type": "code",
   "execution_count": 201,
   "id": "b1da0fad",
   "metadata": {},
   "outputs": [
    {
     "data": {
      "image/png": "[encoded data removed]",
      "text/plain": [
       "<Figure size 432x288 with 1 Axes>"
      ]
     },
     "metadata": {
      "needs_background": "light"
     },
     "output_type": "display_data"
    }
   ],
   "source": [
    "plt.plot(no_of_trials , NNIp_time,color=\"red\")\n",
    "plt.plot(no_of_trials , BLIp_time, color=\"green\")\n",
    "plt.plot(no_of_trials , BCIp_time, color=\"blue\")\n",
    "plt.ylabel(\"time taken in seconds\")\n",
    "plt.xlabel(\"Trial number\")\n",
    "plt.text(4,2.72, \"sampling rate factor = \" + str(srf), fontsize = 11)\n",
    "plt.text(12,0.11, \"red represents timegraph for downsampling + nearest neighbour interpolation method\", fontsize = 11)\n",
    "plt.text(12,0.12, \"green represents timegraph for  downsampling + bilinear interpolation method\", fontsize = 11)\n",
    "plt.text(12,0.13, \"blue represents timegraph for downsampling + bicubic interpolation method\", fontsize = 11)\n",
    "plt.show()"
   ]
  },
  {
   "cell_type": "markdown",
   "id": "21b28a90",
   "metadata": {},
   "source": [
    "# Saving resulting images"
   ]
  },
  {
   "cell_type": "code",
   "execution_count": 202,
   "id": "d3ae33a0",
   "metadata": {},
   "outputs": [
    {
     "ename": "error",
     "evalue": "OpenCV(4.6.0) D:\\a\\opencv-python\\opencv-python\\opencv\\modules\\core\\src\\alloc.cpp:73: error: (-4:Insufficient memory) Failed to allocate 3079803600 bytes in function 'cv::OutOfMemoryError'\n",
     "output_type": "error",
     "traceback": [
      "\u001b[1;31m---------------------------------------------------------------------------\u001b[0m",
      "\u001b[1;31merror\u001b[0m                                     Traceback (most recent call last)",
      "Input \u001b[1;32mIn [202]\u001b[0m, in \u001b[0;36m<cell line: 5>\u001b[1;34m()\u001b[0m\n\u001b[0;32m      3\u001b[0m up_sampled_img1 \u001b[38;5;241m=\u001b[39m NNIp(img,srf)\n\u001b[0;32m      4\u001b[0m up_sampled_img2 \u001b[38;5;241m=\u001b[39m BLIp(img,srf)\n\u001b[1;32m----> 5\u001b[0m up_sampled_img3 \u001b[38;5;241m=\u001b[39m \u001b[43mBCIp\u001b[49m\u001b[43m(\u001b[49m\u001b[43mimg\u001b[49m\u001b[43m,\u001b[49m\u001b[43msrf\u001b[49m\u001b[43m)\u001b[49m\n\u001b[0;32m      6\u001b[0m cv2\u001b[38;5;241m.\u001b[39mimwrite(\u001b[38;5;124m\"\u001b[39m\u001b[38;5;124mC:/Users/qa284/Downloads/exp2/up1/up1.jpg\u001b[39m\u001b[38;5;124m\"\u001b[39m, up_sampled_img1) \u001b[38;5;66;03m# save image\u001b[39;00m\n\u001b[0;32m      7\u001b[0m cv2\u001b[38;5;241m.\u001b[39mimwrite(\u001b[38;5;124m\"\u001b[39m\u001b[38;5;124mC:/Users/qa284/Downloads/exp2/up2/up2.jpg\u001b[39m\u001b[38;5;124m\"\u001b[39m, up_sampled_img2) \u001b[38;5;66;03m# save image\u001b[39;00m\n",
      "Input \u001b[1;32mIn [196]\u001b[0m, in \u001b[0;36mBCIp\u001b[1;34m(img, srf)\u001b[0m\n\u001b[0;32m      3\u001b[0m new_height \u001b[38;5;241m=\u001b[39m \u001b[38;5;28mint\u001b[39m(height \u001b[38;5;241m*\u001b[39m srf)\n\u001b[0;32m      4\u001b[0m new_width \u001b[38;5;241m=\u001b[39m \u001b[38;5;28mint\u001b[39m(width \u001b[38;5;241m*\u001b[39m srf)\n\u001b[1;32m----> 5\u001b[0m new_img \u001b[38;5;241m=\u001b[39m \u001b[43mcv2\u001b[49m\u001b[38;5;241;43m.\u001b[39;49m\u001b[43mresize\u001b[49m\u001b[43m(\u001b[49m\u001b[43mimg\u001b[49m\u001b[43m,\u001b[49m\u001b[43m \u001b[49m\u001b[43m(\u001b[49m\u001b[43mnew_width\u001b[49m\u001b[43m,\u001b[49m\u001b[43m \u001b[49m\u001b[43mnew_height\u001b[49m\u001b[43m)\u001b[49m\u001b[43m,\u001b[49m\u001b[43m \u001b[49m\u001b[43minterpolation\u001b[49m\u001b[38;5;241;43m=\u001b[39;49m\u001b[43mcv2\u001b[49m\u001b[38;5;241;43m.\u001b[39;49m\u001b[43mINTER_CUBIC\u001b[49m\u001b[43m)\u001b[49m\n\u001b[0;32m      6\u001b[0m \u001b[38;5;28;01mreturn\u001b[39;00m new_img\n",
      "\u001b[1;31merror\u001b[0m: OpenCV(4.6.0) D:\\a\\opencv-python\\opencv-python\\opencv\\modules\\core\\src\\alloc.cpp:73: error: (-4:Insufficient memory) Failed to allocate 3079803600 bytes in function 'cv::OutOfMemoryError'\n"
     ]
    }
   ],
   "source": [
    "down_sampled_img = simple_downsmpl(img ,srf)\n",
    "cv2.imwrite(\"C:/Users/qa284/Downloads/exp2/downsampling/ds.jpg\", down_sampled_img)\n",
    "up_sampled_img1 = NNIp(img,srf)\n",
    "up_sampled_img2 = BLIp(img,srf)\n",
    "up_sampled_img3 = BCIp(img,srf)\n",
    "cv2.imwrite(\"C:/Users/qa284/Downloads/exp2/up1/up1.jpg\", up_sampled_img1) # save image\n",
    "cv2.imwrite(\"C:/Users/qa284/Downloads/exp2/up2/up2.jpg\", up_sampled_img2) # save image\n",
    "cv2.imwrite(\"C:/Users/qa284/Downloads/exp2/up3/up3.jpg\", up_sampled_img3) # save image"
   ]
  },
  {
   "cell_type": "code",
   "execution_count": null,
   "id": "f1ffca0c",
   "metadata": {},
   "outputs": [],
   "source": []
  }
 ],
 "metadata": {
  "kernelspec": {
   "display_name": "Python 3 (ipykernel)",
   "language": "python",
   "name": "python3"
  },
  "language_info": {
   "codemirror_mode": {
    "name": "ipython",
    "version": 3
   },
   "file_extension": ".py",
   "mimetype": "text/x-python",
   "name": "python",
   "nbconvert_exporter": "python",
   "pygments_lexer": "ipython3",
   "version": "3.9.12"
  }
 },
 "nbformat": 4,
 "nbformat_minor": 5
}
